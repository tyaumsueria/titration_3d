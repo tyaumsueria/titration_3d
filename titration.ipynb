{
 "cells": [
  {
   "cell_type": "markdown",
   "metadata": {},
   "source": [
    "# 0. パッケージのインポート"
   ]
  },
  {
   "cell_type": "code",
   "execution_count": 3,
   "metadata": {},
   "outputs": [],
   "source": [
    "import numpy as np\n",
    "from scipy.optimize import minimize\n",
    "import matplotlib.pyplot as plt\n",
    "from mpl_toolkits.mplot3d import Axes3D\n",
    "import warnings\n",
    "warnings.filterwarnings('ignore')"
   ]
  },
  {
   "cell_type": "markdown",
   "metadata": {},
   "source": [
    "# 1. パラメータの設定\n",
    "\n",
    "- 総濃度の探索\n",
    "    - `c_max`: 探索上限値   \n",
    "    - `c_step`: １軸あたり探索ステップ"
   ]
  },
  {
   "cell_type": "code",
   "execution_count": 37,
   "metadata": {},
   "outputs": [],
   "source": [
    "c_max = 1.0e-4\n",
    "c_step = 50"
   ]
  },
  {
   "cell_type": "markdown",
   "metadata": {},
   "source": [
    "# 2. 平衡定数の指定\n",
    "\n",
    "平衡定数は **別ファイルで指定** する。`acid.dis`には、上から順に平衡定数 $K_{\\text a1}, K_{\\text a2},\\dots$ を記録せよ。\n",
    "\n",
    "$$\n",
    "\\begin{aligned}\n",
    "    \\mathrm H_{m\\phantom{{}-0}}\\mathrm A^{\\phantom{-}} &\\stackrel{K_{\\text a1}}{\\rightleftarrows} \\mathrm H^+ + \\mathrm H_{m-1}\\mathrm A^{\\phantom{1}-}\\\\\n",
    "    \\mathrm H_{m-1}\\mathrm A^- &\\stackrel{K_{\\text a2}}{\\rightleftarrows} \\mathrm H^+ + \\mathrm H_{m-2}\\mathrm A^{2-}\\\\\n",
    "    &\\hspace{0.75em}\\vdots\n",
    "\\end{aligned}\n",
    "$$\n",
    "\n",
    "`base.dis`には、上から順に平衡定数 $K_{\\text b1}, K_{\\text b2},\\dots$ を記録せよ。\n",
    "\n",
    "$$\n",
    "\\begin{aligned}\n",
    "    {\\mathrm B(\\mathrm{OH})_{n-1}}^{\\phantom{1}+} + \\mathrm{H_2O} &\\stackrel{K_{\\text b1}}{\\rightleftarrows} {\\mathrm B(\\mathrm{OH})_{n\\phantom{{}-0}}}^{\\phantom{+}} + \\mathrm H^+\\\\ \n",
    "    {\\mathrm B(\\mathrm{OH})_{n-2}}^{2+} + \\mathrm{H_2O} &\\stackrel{K_{\\text b2}}{\\rightleftarrows} {\\mathrm B(\\mathrm{OH})_{n-1}}^+ + \\mathrm H^+\\\\ \n",
    "    &\\hspace{0.75em}\\vdots\n",
    "\\end{aligned}\n",
    "$$\n",
    "\n",
    "上の式で定義される塩基の平衡定数 $K_{\\text bi}$ がわからなければ、以下の変換公式が有効である。\n",
    "$$ K_{\\text bi}=\\frac{K_{\\text w}}{K_{\\text bi}'},\\quad {\\mathrm B(\\mathrm{OH})_{n-i+1}}^{(i-1)+}\\stackrel{K_{\\text bi}'}{\\rightleftarrows} {\\mathrm B(\\mathrm{OH})_{n-i}}^{i+}+\\mathrm{OH}^- $$"
   ]
  },
  {
   "cell_type": "markdown",
   "metadata": {},
   "source": [
    "# 3. 実行\n",
    "\n",
    "以上のセルの実行が正常にできれば、次のセルを実行してpHの3Dプロットが得られる。\n",
    "`out.dat`に実行結果が記録され、セルの下にグラフが表示される。"
   ]
  },
  {
   "cell_type": "code",
   "execution_count": null,
   "metadata": {},
   "outputs": [],
   "source": [
    "kw = 1.008e-14\n",
    "\n",
    "def p_inv(x):\n",
    "    return 10**(-x)\n",
    "\n",
    "def read_acidbase(file_acid: str, file_base: str):\n",
    "    global kw\n",
    "    \n",
    "    acid_arr = np.insert(np.genfromtxt(file_acid, dtype=float), 0, 1.)\n",
    "    base_arr = np.insert(np.genfromtxt(file_base, dtype=float), 0, 1.)\n",
    "\n",
    "    if type(acid_arr) != np.ndarray:\n",
    "        acid_arr = np.array([acid_arr])\n",
    "    if type(base_arr) != np.ndarray:\n",
    "        base_arr = np.array([base_arr])\n",
    "    return acid_arr, base_arr\n",
    "\n",
    "def equation(x, ca: float, cb: float):\n",
    "    global acid_arr, base_arr, kw\n",
    "\n",
    "    m, n = len(acid_arr), len(base_arr)\n",
    "\n",
    "    nmr_a, dnm_a, nmr_b, dnm_b = 0., 0., 0., 0.\n",
    "    for i in range(m+1):\n",
    "        nmr_a += i * np.prod(acid_arr[0:i+1]) / p_inv(x) ** i\n",
    "        dnm_a +=     np.prod(acid_arr[0:i+1]) / p_inv(x) ** i\n",
    "    for j in range(n+1):\n",
    "        nmr_b += j * p_inv(x) ** j / np.prod(base_arr[0:j+1])\n",
    "        dnm_b +=     p_inv(x) ** j / np.prod(base_arr[0:j+1])\n",
    "\n",
    "    a = ca * nmr_a / dnm_a - cb * nmr_b / dnm_b\n",
    "    b = -kw\n",
    "    ans = p_inv(x) - (a + np.sqrt(a ** 2 - 4 * b)) / 2\n",
    "    return np.log10(np.abs(ans))\n",
    "\n",
    "def solve(ca: float, cb: float):\n",
    "    global equation, acid_arr, base_arr, kw\n",
    "\n",
    "    x_guess = minimize(equation, 7, args=(ca, cb), method='Powell', tol=1e-12).x[0]\n",
    "    return x_guess\n",
    "\n",
    "def run(c_max: float, step: int):\n",
    "    global kw\n",
    "    X, Y, Z = [], [], []\n",
    "\n",
    "    x_arr = np.linspace(0., c_max, step, endpoint=False)\n",
    "    y_arr = np.linspace(0., c_max, step, endpoint=False)\n",
    "\n",
    "    for x in x_arr:\n",
    "        X_sub, Y_sub, Z_sub = [], [], []\n",
    "        for y in y_arr:\n",
    "            z = solve(x, y)\n",
    "            X_sub.append(x)\n",
    "            Y_sub.append(y)\n",
    "            Z_sub.append(z)\n",
    "        X.append(X_sub)\n",
    "        Y.append(Y_sub)\n",
    "        Z.append(Z_sub)\n",
    "    \n",
    "    return np.array(X), np.array(Y), np.array(Z)\n",
    "\n",
    "def plot(X: list, Y: list, Z: list):\n",
    "    fig = plt.figure(figsize=(12,12))\n",
    "    ax = fig.add_subplot(111, projection='3d')\n",
    "\n",
    "    ax.plot_surface(X, Y, Z, cmap='gist_rainbow', vmin=0, vmax=14)\n",
    "\n",
    "    ax.set_xlabel(r'Total Concentration of Acid $C_{\\text{A}}$')\n",
    "    ax.set_ylabel(r'Total Concentration of Base $C_{\\text{B}}$')\n",
    "    ax.set_zlabel(r'pH')\n",
    "\n",
    "    ax.set_zlim(0,14)\n",
    "\n",
    "    plt.show()\n",
    "\n",
    "acid_arr, base_arr = read_acidbase('acid.dis', 'base.dis')\n",
    "X, Y, Z = run(c_max, c_step)\n",
    "\n",
    "with open('out.dat', 'w') as f:\n",
    "    for i, Z_sub in enumerate(Z):\n",
    "        for j, z in enumerate(Z_sub):\n",
    "            f.write(f'{X[i][j]}\\t{Y[i][j]}\\t{z}\\n')\n",
    "plot(X, Y, Z)"
   ]
  },
  {
   "cell_type": "markdown",
   "metadata": {},
   "source": [
    "## 原理\n",
    "\n",
    "電気中性の法則から得る $[\\mathrm H^+]$ の多項式\n",
    "$$ [\\mathrm H^+]^2 - \\left(C_{\\text A}\\cdot\\frac{\\displaystyle\\sum_{i=0}^m\\,i\\cdot\\frac{K_{\\text a1}\\cdots K_{\\text ai}}{[\\mathrm H^+]^i}}{\\displaystyle\\sum_{i=0}^m\\phantom{\\,i\\cdot{}}\\frac{K_{\\text a1}\\cdots K_{\\text ai}}{[\\mathrm H^+]^i}}-C_{\\text B}\\cdot\\frac{\\displaystyle\\sum_{i=0}^n\\,i\\cdot\\frac{[\\mathrm H^+]^i}{K_{\\text b1}\\cdots K_{\\text bi}}}{\\displaystyle\\sum_{i=0}^n\\phantom{\\,i\\cdot{}}\\frac{[\\mathrm H^+]^i}{K_{\\text b1}\\cdots K_{\\text bi}}}\\right)[\\mathrm H^+] - K_{\\text w} = 0 $$\n",
    "を、形式的に $[\\mathrm H^+]$ の2次方程式とみなし解の公式を得る。\n",
    "$$ [\\mathrm H^+] = \\frac{a+\\sqrt{a^2-4b}}2,\\quad a=\\left(C_{\\text A}\\cdot\\frac{\\displaystyle\\sum_{i=0}^m\\,i\\cdot\\frac{K_{\\text a1}\\cdots K_{\\text ai}}{[\\mathrm H^+]^i}}{\\displaystyle\\sum_{i=0}^m\\phantom{\\,i\\cdot{}}\\frac{K_{\\text a1}\\cdots K_{\\text ai}}{[\\mathrm H^+]^i}}-C_{\\text B}\\cdot\\frac{\\displaystyle\\sum_{i=0}^n\\,i\\cdot\\frac{[\\mathrm H^+]^i}{K_{\\text b1}\\cdots K_{\\text bi}}}{\\displaystyle\\sum_{i=0}^n\\phantom{\\,i\\cdot{}}\\frac{[\\mathrm H^+]^i}{K_{\\text b1}\\cdots K_{\\text bi}}}\\right),\\quad b=-K_{\\text w} $$\n",
    "$ [\\mathrm H^+] = \\frac{a+\\sqrt{a^2-4b}}2 $ は右辺が $[\\mathrm H^+]$ に依るため、一種の自己無撞着方程式になっており、\n",
    "$$ f([\\mathrm H^+]) = \\log\\left|[\\mathrm H^+] - \\frac{a+\\sqrt{a^2-4b}}2\\right| $$\n",
    "が最小になる $[\\mathrm H^+]$ を`Powell`法で探索して求める。\n",
    "\n",
    "総濃度 $C_{\\text A}, C_{\\text B}$ は滴下する溶液に依って場合分けされる。\n",
    "- 塩基を酸で滴定するなら、滴下体積を$v$として、$$ C_{\\text A} = \\frac{v}{v+V_{\\text B}^{(0)}},\\quad C_{\\text B} = \\frac{V_{\\text B}^{(0)}}{v+V_{\\text B}^{(0)}} $$\n",
    "- 酸を塩基で滴定するなら、滴下体積を$v$として、$$ C_{\\text A} = \\frac{V_{\\text A}^{(0)}}{V_{\\text A}^{(0)}+v},\\quad C_{\\text B} = \\frac{v}{V_{\\text A}^{(0)}+v} $$"
   ]
  }
 ],
 "metadata": {
  "kernelspec": {
   "display_name": "3.12.1",
   "language": "python",
   "name": "python3"
  },
  "language_info": {
   "codemirror_mode": {
    "name": "ipython",
    "version": 3
   },
   "file_extension": ".py",
   "mimetype": "text/x-python",
   "name": "python",
   "nbconvert_exporter": "python",
   "pygments_lexer": "ipython3",
   "version": "3.12.1"
  }
 },
 "nbformat": 4,
 "nbformat_minor": 2
}
